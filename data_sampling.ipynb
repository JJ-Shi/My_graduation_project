{
 "cells": [
  {
   "cell_type": "code",
   "execution_count": 85,
   "id": "1f27efa2",
   "metadata": {},
   "outputs": [],
   "source": [
    "import pandas as pd\n",
    "import math\n",
    "from tqdm import tqdm\n",
    "import numpy as np\n",
    "import matplotlib.pyplot as plt\n",
    "from sklearn import metrics\n",
    "from sklearn.metrics import RocCurveDisplay\n",
    "import joblib\n",
    "\n",
    "from imblearn.over_sampling import RandomOverSampler\n",
    "from imblearn.over_sampling import SMOTE\n",
    "from imblearn.over_sampling import BorderlineSMOTE\n",
    "from imblearn.over_sampling import SVMSMOTE\n",
    "\n",
    "from imblearn.under_sampling import RandomUnderSampler\n",
    "from imblearn.under_sampling import NearMiss\n",
    "from imblearn.under_sampling import RepeatedEditedNearestNeighbours\n",
    "from imblearn.under_sampling import OneSidedSelection\n",
    "\n",
    "from imblearn.combine import SMOTEENN\n",
    "from imblearn.combine import SMOTETomek\n",
    "\n",
    "from sklearn.ensemble import RandomForestClassifier\n",
    "from sklearn.linear_model import LogisticRegression\n",
    "from sklearn.naive_bayes import GaussianNB"
   ]
  },
  {
   "cell_type": "code",
   "execution_count": 2,
   "id": "f3000382",
   "metadata": {},
   "outputs": [
    {
     "data": {
      "text/html": [
       "<div>\n",
       "<style scoped>\n",
       "    .dataframe tbody tr th:only-of-type {\n",
       "        vertical-align: middle;\n",
       "    }\n",
       "\n",
       "    .dataframe tbody tr th {\n",
       "        vertical-align: top;\n",
       "    }\n",
       "\n",
       "    .dataframe thead th {\n",
       "        text-align: right;\n",
       "    }\n",
       "</style>\n",
       "<table border=\"1\" class=\"dataframe\">\n",
       "  <thead>\n",
       "    <tr style=\"text-align: right;\">\n",
       "      <th></th>\n",
       "      <th>Rndrng_Prvdr_State_FIPS</th>\n",
       "      <th>Tot_HCPCS_Cds</th>\n",
       "      <th>Tot_Benes_PartB</th>\n",
       "      <th>Tot_Srvcs</th>\n",
       "      <th>Tot_Sbmtd_Chrg</th>\n",
       "      <th>Tot_Mdcr_Pymt_Amt</th>\n",
       "      <th>Bene_Avg_Risk_Scre</th>\n",
       "      <th>Exclusion</th>\n",
       "      <th>Rndrng_Prvdr_Gndr_F</th>\n",
       "      <th>Rndrng_Prvdr_Gndr_M</th>\n",
       "      <th>...</th>\n",
       "      <th>Tot_Suplr_HCPCS_Cds</th>\n",
       "      <th>Tot_Suplr_Benes</th>\n",
       "      <th>Tot_Suplr_Clms</th>\n",
       "      <th>Tot_Suplr_Srvcs</th>\n",
       "      <th>Suplr_Sbmtd_Chrgs</th>\n",
       "      <th>Suplr_Mdcr_Pymt_Amt</th>\n",
       "      <th>Rndrng_Prvdr_Type_Intensive Cardiac Rehabilitation</th>\n",
       "      <th>Rndrng_Prvdr_Type_Medical Genetics and Genomics</th>\n",
       "      <th>Rndrng_Prvdr_Type_Medicare Diabetes Preventive Program</th>\n",
       "      <th>Rndrng_Prvdr_Type_Undersea and Hyperbaric Medicine</th>\n",
       "    </tr>\n",
       "  </thead>\n",
       "  <tbody>\n",
       "    <tr>\n",
       "      <th>0</th>\n",
       "      <td>37.0</td>\n",
       "      <td>53</td>\n",
       "      <td>941</td>\n",
       "      <td>6053.0</td>\n",
       "      <td>330786.64</td>\n",
       "      <td>234031.17</td>\n",
       "      <td>4.5499</td>\n",
       "      <td>0</td>\n",
       "      <td>0</td>\n",
       "      <td>1</td>\n",
       "      <td>...</td>\n",
       "      <td>18.0</td>\n",
       "      <td>28.0</td>\n",
       "      <td>234.0</td>\n",
       "      <td>38432.0</td>\n",
       "      <td>283882.15</td>\n",
       "      <td>49679.51</td>\n",
       "      <td>0.0</td>\n",
       "      <td>0.0</td>\n",
       "      <td>0.0</td>\n",
       "      <td>0.0</td>\n",
       "    </tr>\n",
       "    <tr>\n",
       "      <th>1</th>\n",
       "      <td>12.0</td>\n",
       "      <td>39</td>\n",
       "      <td>1780</td>\n",
       "      <td>5902.0</td>\n",
       "      <td>1557600.00</td>\n",
       "      <td>582036.98</td>\n",
       "      <td>3.1298</td>\n",
       "      <td>0</td>\n",
       "      <td>0</td>\n",
       "      <td>1</td>\n",
       "      <td>...</td>\n",
       "      <td>24.0</td>\n",
       "      <td>21.0</td>\n",
       "      <td>144.0</td>\n",
       "      <td>19204.0</td>\n",
       "      <td>57531.29</td>\n",
       "      <td>16456.49</td>\n",
       "      <td>0.0</td>\n",
       "      <td>0.0</td>\n",
       "      <td>0.0</td>\n",
       "      <td>0.0</td>\n",
       "    </tr>\n",
       "    <tr>\n",
       "      <th>2</th>\n",
       "      <td>31.0</td>\n",
       "      <td>143</td>\n",
       "      <td>487</td>\n",
       "      <td>13646.0</td>\n",
       "      <td>934781.00</td>\n",
       "      <td>371989.62</td>\n",
       "      <td>1.0452</td>\n",
       "      <td>0</td>\n",
       "      <td>0</td>\n",
       "      <td>1</td>\n",
       "      <td>...</td>\n",
       "      <td>65.0</td>\n",
       "      <td>66.0</td>\n",
       "      <td>449.0</td>\n",
       "      <td>13778.0</td>\n",
       "      <td>211657.34</td>\n",
       "      <td>73806.30</td>\n",
       "      <td>0.0</td>\n",
       "      <td>0.0</td>\n",
       "      <td>0.0</td>\n",
       "      <td>0.0</td>\n",
       "    </tr>\n",
       "    <tr>\n",
       "      <th>3</th>\n",
       "      <td>9.0</td>\n",
       "      <td>25</td>\n",
       "      <td>516</td>\n",
       "      <td>2201.0</td>\n",
       "      <td>230000.00</td>\n",
       "      <td>92868.98</td>\n",
       "      <td>1.0939</td>\n",
       "      <td>0</td>\n",
       "      <td>0</td>\n",
       "      <td>1</td>\n",
       "      <td>...</td>\n",
       "      <td>47.0</td>\n",
       "      <td>50.0</td>\n",
       "      <td>203.0</td>\n",
       "      <td>2906.0</td>\n",
       "      <td>41810.34</td>\n",
       "      <td>10083.63</td>\n",
       "      <td>0.0</td>\n",
       "      <td>0.0</td>\n",
       "      <td>0.0</td>\n",
       "      <td>0.0</td>\n",
       "    </tr>\n",
       "    <tr>\n",
       "      <th>4</th>\n",
       "      <td>26.0</td>\n",
       "      <td>86</td>\n",
       "      <td>2000</td>\n",
       "      <td>5962.0</td>\n",
       "      <td>963080.00</td>\n",
       "      <td>332887.04</td>\n",
       "      <td>2.6301</td>\n",
       "      <td>0</td>\n",
       "      <td>0</td>\n",
       "      <td>1</td>\n",
       "      <td>...</td>\n",
       "      <td>4.0</td>\n",
       "      <td>28.0</td>\n",
       "      <td>11.0</td>\n",
       "      <td>311.0</td>\n",
       "      <td>17205.04</td>\n",
       "      <td>6789.74</td>\n",
       "      <td>0.0</td>\n",
       "      <td>0.0</td>\n",
       "      <td>0.0</td>\n",
       "      <td>0.0</td>\n",
       "    </tr>\n",
       "    <tr>\n",
       "      <th>...</th>\n",
       "      <td>...</td>\n",
       "      <td>...</td>\n",
       "      <td>...</td>\n",
       "      <td>...</td>\n",
       "      <td>...</td>\n",
       "      <td>...</td>\n",
       "      <td>...</td>\n",
       "      <td>...</td>\n",
       "      <td>...</td>\n",
       "      <td>...</td>\n",
       "      <td>...</td>\n",
       "      <td>...</td>\n",
       "      <td>...</td>\n",
       "      <td>...</td>\n",
       "      <td>...</td>\n",
       "      <td>...</td>\n",
       "      <td>...</td>\n",
       "      <td>...</td>\n",
       "      <td>...</td>\n",
       "      <td>...</td>\n",
       "      <td>...</td>\n",
       "    </tr>\n",
       "    <tr>\n",
       "      <th>563738</th>\n",
       "      <td>12.0</td>\n",
       "      <td>31</td>\n",
       "      <td>160</td>\n",
       "      <td>604.0</td>\n",
       "      <td>124013.80</td>\n",
       "      <td>41210.91</td>\n",
       "      <td>0.9733</td>\n",
       "      <td>0</td>\n",
       "      <td>0</td>\n",
       "      <td>1</td>\n",
       "      <td>...</td>\n",
       "      <td>21.0</td>\n",
       "      <td>12.0</td>\n",
       "      <td>38.0</td>\n",
       "      <td>139.0</td>\n",
       "      <td>10540.64</td>\n",
       "      <td>2828.07</td>\n",
       "      <td>0.0</td>\n",
       "      <td>0.0</td>\n",
       "      <td>0.0</td>\n",
       "      <td>0.0</td>\n",
       "    </tr>\n",
       "    <tr>\n",
       "      <th>563739</th>\n",
       "      <td>12.0</td>\n",
       "      <td>42</td>\n",
       "      <td>1293</td>\n",
       "      <td>7652.0</td>\n",
       "      <td>853391.00</td>\n",
       "      <td>448715.39</td>\n",
       "      <td>1.2065</td>\n",
       "      <td>0</td>\n",
       "      <td>0</td>\n",
       "      <td>1</td>\n",
       "      <td>...</td>\n",
       "      <td>79.0</td>\n",
       "      <td>115.0</td>\n",
       "      <td>565.0</td>\n",
       "      <td>13089.0</td>\n",
       "      <td>142784.40</td>\n",
       "      <td>35013.80</td>\n",
       "      <td>0.0</td>\n",
       "      <td>0.0</td>\n",
       "      <td>0.0</td>\n",
       "      <td>0.0</td>\n",
       "    </tr>\n",
       "    <tr>\n",
       "      <th>563740</th>\n",
       "      <td>12.0</td>\n",
       "      <td>24</td>\n",
       "      <td>62</td>\n",
       "      <td>141.0</td>\n",
       "      <td>21722.00</td>\n",
       "      <td>6707.42</td>\n",
       "      <td>0.9904</td>\n",
       "      <td>0</td>\n",
       "      <td>1</td>\n",
       "      <td>0</td>\n",
       "      <td>...</td>\n",
       "      <td>7.0</td>\n",
       "      <td>28.0</td>\n",
       "      <td>16.0</td>\n",
       "      <td>335.0</td>\n",
       "      <td>1082.06</td>\n",
       "      <td>149.66</td>\n",
       "      <td>0.0</td>\n",
       "      <td>0.0</td>\n",
       "      <td>0.0</td>\n",
       "      <td>0.0</td>\n",
       "    </tr>\n",
       "    <tr>\n",
       "      <th>563741</th>\n",
       "      <td>6.0</td>\n",
       "      <td>50</td>\n",
       "      <td>334</td>\n",
       "      <td>1111.0</td>\n",
       "      <td>181414.40</td>\n",
       "      <td>65362.61</td>\n",
       "      <td>1.3348</td>\n",
       "      <td>0</td>\n",
       "      <td>1</td>\n",
       "      <td>0</td>\n",
       "      <td>...</td>\n",
       "      <td>28.0</td>\n",
       "      <td>16.0</td>\n",
       "      <td>72.0</td>\n",
       "      <td>608.0</td>\n",
       "      <td>13805.37</td>\n",
       "      <td>3176.26</td>\n",
       "      <td>0.0</td>\n",
       "      <td>0.0</td>\n",
       "      <td>0.0</td>\n",
       "      <td>0.0</td>\n",
       "    </tr>\n",
       "    <tr>\n",
       "      <th>563742</th>\n",
       "      <td>13.0</td>\n",
       "      <td>30</td>\n",
       "      <td>77</td>\n",
       "      <td>301.0</td>\n",
       "      <td>35394.72</td>\n",
       "      <td>6144.87</td>\n",
       "      <td>1.1060</td>\n",
       "      <td>0</td>\n",
       "      <td>0</td>\n",
       "      <td>1</td>\n",
       "      <td>...</td>\n",
       "      <td>18.0</td>\n",
       "      <td>1291.0</td>\n",
       "      <td>2199.0</td>\n",
       "      <td>4784.0</td>\n",
       "      <td>3073825.70</td>\n",
       "      <td>2102871.03</td>\n",
       "      <td>0.0</td>\n",
       "      <td>0.0</td>\n",
       "      <td>0.0</td>\n",
       "      <td>0.0</td>\n",
       "    </tr>\n",
       "  </tbody>\n",
       "</table>\n",
       "<p>563743 rows × 123 columns</p>\n",
       "</div>"
      ],
      "text/plain": [
       "        Rndrng_Prvdr_State_FIPS  Tot_HCPCS_Cds  Tot_Benes_PartB  Tot_Srvcs  \\\n",
       "0                          37.0             53              941     6053.0   \n",
       "1                          12.0             39             1780     5902.0   \n",
       "2                          31.0            143              487    13646.0   \n",
       "3                           9.0             25              516     2201.0   \n",
       "4                          26.0             86             2000     5962.0   \n",
       "...                         ...            ...              ...        ...   \n",
       "563738                     12.0             31              160      604.0   \n",
       "563739                     12.0             42             1293     7652.0   \n",
       "563740                     12.0             24               62      141.0   \n",
       "563741                      6.0             50              334     1111.0   \n",
       "563742                     13.0             30               77      301.0   \n",
       "\n",
       "        Tot_Sbmtd_Chrg  Tot_Mdcr_Pymt_Amt  Bene_Avg_Risk_Scre  Exclusion  \\\n",
       "0            330786.64          234031.17              4.5499          0   \n",
       "1           1557600.00          582036.98              3.1298          0   \n",
       "2            934781.00          371989.62              1.0452          0   \n",
       "3            230000.00           92868.98              1.0939          0   \n",
       "4            963080.00          332887.04              2.6301          0   \n",
       "...                ...                ...                 ...        ...   \n",
       "563738       124013.80           41210.91              0.9733          0   \n",
       "563739       853391.00          448715.39              1.2065          0   \n",
       "563740        21722.00            6707.42              0.9904          0   \n",
       "563741       181414.40           65362.61              1.3348          0   \n",
       "563742        35394.72            6144.87              1.1060          0   \n",
       "\n",
       "        Rndrng_Prvdr_Gndr_F  Rndrng_Prvdr_Gndr_M  ...  Tot_Suplr_HCPCS_Cds  \\\n",
       "0                         0                    1  ...                 18.0   \n",
       "1                         0                    1  ...                 24.0   \n",
       "2                         0                    1  ...                 65.0   \n",
       "3                         0                    1  ...                 47.0   \n",
       "4                         0                    1  ...                  4.0   \n",
       "...                     ...                  ...  ...                  ...   \n",
       "563738                    0                    1  ...                 21.0   \n",
       "563739                    0                    1  ...                 79.0   \n",
       "563740                    1                    0  ...                  7.0   \n",
       "563741                    1                    0  ...                 28.0   \n",
       "563742                    0                    1  ...                 18.0   \n",
       "\n",
       "        Tot_Suplr_Benes  Tot_Suplr_Clms  Tot_Suplr_Srvcs  Suplr_Sbmtd_Chrgs  \\\n",
       "0                  28.0           234.0          38432.0          283882.15   \n",
       "1                  21.0           144.0          19204.0           57531.29   \n",
       "2                  66.0           449.0          13778.0          211657.34   \n",
       "3                  50.0           203.0           2906.0           41810.34   \n",
       "4                  28.0            11.0            311.0           17205.04   \n",
       "...                 ...             ...              ...                ...   \n",
       "563738             12.0            38.0            139.0           10540.64   \n",
       "563739            115.0           565.0          13089.0          142784.40   \n",
       "563740             28.0            16.0            335.0            1082.06   \n",
       "563741             16.0            72.0            608.0           13805.37   \n",
       "563742           1291.0          2199.0           4784.0         3073825.70   \n",
       "\n",
       "        Suplr_Mdcr_Pymt_Amt  \\\n",
       "0                  49679.51   \n",
       "1                  16456.49   \n",
       "2                  73806.30   \n",
       "3                  10083.63   \n",
       "4                   6789.74   \n",
       "...                     ...   \n",
       "563738              2828.07   \n",
       "563739             35013.80   \n",
       "563740               149.66   \n",
       "563741              3176.26   \n",
       "563742           2102871.03   \n",
       "\n",
       "        Rndrng_Prvdr_Type_Intensive Cardiac Rehabilitation  \\\n",
       "0                                                     0.0    \n",
       "1                                                     0.0    \n",
       "2                                                     0.0    \n",
       "3                                                     0.0    \n",
       "4                                                     0.0    \n",
       "...                                                   ...    \n",
       "563738                                                0.0    \n",
       "563739                                                0.0    \n",
       "563740                                                0.0    \n",
       "563741                                                0.0    \n",
       "563742                                                0.0    \n",
       "\n",
       "        Rndrng_Prvdr_Type_Medical Genetics and Genomics  \\\n",
       "0                                                   0.0   \n",
       "1                                                   0.0   \n",
       "2                                                   0.0   \n",
       "3                                                   0.0   \n",
       "4                                                   0.0   \n",
       "...                                                 ...   \n",
       "563738                                              0.0   \n",
       "563739                                              0.0   \n",
       "563740                                              0.0   \n",
       "563741                                              0.0   \n",
       "563742                                              0.0   \n",
       "\n",
       "        Rndrng_Prvdr_Type_Medicare Diabetes Preventive Program  \\\n",
       "0                                                     0.0        \n",
       "1                                                     0.0        \n",
       "2                                                     0.0        \n",
       "3                                                     0.0        \n",
       "4                                                     0.0        \n",
       "...                                                   ...        \n",
       "563738                                                0.0        \n",
       "563739                                                0.0        \n",
       "563740                                                0.0        \n",
       "563741                                                0.0        \n",
       "563742                                                0.0        \n",
       "\n",
       "        Rndrng_Prvdr_Type_Undersea and Hyperbaric Medicine  \n",
       "0                                                     0.0   \n",
       "1                                                     0.0   \n",
       "2                                                     0.0   \n",
       "3                                                     0.0   \n",
       "4                                                     0.0   \n",
       "...                                                   ...   \n",
       "563738                                                0.0   \n",
       "563739                                                0.0   \n",
       "563740                                                0.0   \n",
       "563741                                                0.0   \n",
       "563742                                                0.0   \n",
       "\n",
       "[563743 rows x 123 columns]"
      ]
     },
     "execution_count": 2,
     "metadata": {},
     "output_type": "execute_result"
    }
   ],
   "source": [
    "data_1718 = pd.read_csv('train_and_test_dataset\\combined_data_1718.csv', sep=',')\n",
    "data_1718"
   ]
  },
  {
   "cell_type": "code",
   "execution_count": 24,
   "id": "a9f03c51",
   "metadata": {},
   "outputs": [
    {
     "data": {
      "text/plain": [
       "0    563768\n",
       "1        54\n",
       "Name: Exclusion, dtype: int64"
      ]
     },
     "execution_count": 24,
     "metadata": {},
     "output_type": "execute_result"
    }
   ],
   "source": [
    "data_1718['Exclusion'].value_counts()"
   ]
  },
  {
   "cell_type": "code",
   "execution_count": 25,
   "id": "79c18d75",
   "metadata": {},
   "outputs": [],
   "source": [
    "#Remove data with letters mixed in some values\n",
    "new_data =  data_1718.loc[data_1718['Rfrg_Prvdr_State_FIPS'].replace('[A-Za-z]',np.nan,regex=True).dropna().index]"
   ]
  },
  {
   "cell_type": "code",
   "execution_count": 26,
   "id": "96abfe57",
   "metadata": {},
   "outputs": [
    {
     "data": {
      "text/plain": [
       "0    563689\n",
       "1        54\n",
       "Name: Exclusion, dtype: int64"
      ]
     },
     "execution_count": 26,
     "metadata": {},
     "output_type": "execute_result"
    }
   ],
   "source": [
    "new_data['Exclusion'].value_counts()"
   ]
  },
  {
   "cell_type": "code",
   "execution_count": 27,
   "id": "cdbf7423",
   "metadata": {},
   "outputs": [
    {
     "data": {
      "text/plain": [
       "0    285240\n",
       "1        15\n",
       "Name: Exclusion, dtype: int64"
      ]
     },
     "execution_count": 27,
     "metadata": {},
     "output_type": "execute_result"
    }
   ],
   "source": [
    "data_19['Exclusion'].value_counts()"
   ]
  },
  {
   "cell_type": "code",
   "execution_count": 28,
   "id": "b4d730c4",
   "metadata": {},
   "outputs": [],
   "source": [
    "#Remove data with letters mixed in some values\n",
    "new_data_2 =  data_19.loc[data_19['Rfrg_Prvdr_State_FIPS'].replace('[A-Za-z]',np.nan,regex=True).dropna().index]"
   ]
  },
  {
   "cell_type": "code",
   "execution_count": 29,
   "id": "816a88ab",
   "metadata": {},
   "outputs": [
    {
     "data": {
      "text/plain": [
       "0    285209\n",
       "1        15\n",
       "Name: Exclusion, dtype: int64"
      ]
     },
     "execution_count": 29,
     "metadata": {},
     "output_type": "execute_result"
    }
   ],
   "source": [
    "new_data_2['Exclusion'].value_counts()"
   ]
  },
  {
   "cell_type": "code",
   "execution_count": 32,
   "id": "d77dce8e",
   "metadata": {},
   "outputs": [],
   "source": [
    "new_data.to_csv('train_and_test_dataset\\combined_data_1718.csv', index = False)\n",
    "new_data_2.to_csv('train_and_test_dataset\\combined_data_19.csv', index = False)"
   ]
  },
  {
   "cell_type": "code",
   "execution_count": 3,
   "id": "b8b60609",
   "metadata": {},
   "outputs": [
    {
     "data": {
      "text/html": [
       "<div>\n",
       "<style scoped>\n",
       "    .dataframe tbody tr th:only-of-type {\n",
       "        vertical-align: middle;\n",
       "    }\n",
       "\n",
       "    .dataframe tbody tr th {\n",
       "        vertical-align: top;\n",
       "    }\n",
       "\n",
       "    .dataframe thead th {\n",
       "        text-align: right;\n",
       "    }\n",
       "</style>\n",
       "<table border=\"1\" class=\"dataframe\">\n",
       "  <thead>\n",
       "    <tr style=\"text-align: right;\">\n",
       "      <th></th>\n",
       "      <th>Rndrng_Prvdr_State_FIPS</th>\n",
       "      <th>Tot_HCPCS_Cds</th>\n",
       "      <th>Tot_Benes_PartB</th>\n",
       "      <th>Tot_Srvcs</th>\n",
       "      <th>Tot_Sbmtd_Chrg</th>\n",
       "      <th>Tot_Mdcr_Pymt_Amt</th>\n",
       "      <th>Bene_Avg_Risk_Scre</th>\n",
       "      <th>Exclusion</th>\n",
       "      <th>Rndrng_Prvdr_Gndr_F</th>\n",
       "      <th>Rndrng_Prvdr_Gndr_M</th>\n",
       "      <th>...</th>\n",
       "      <th>Tot_Suplr_HCPCS_Cds</th>\n",
       "      <th>Tot_Suplr_Benes</th>\n",
       "      <th>Tot_Suplr_Clms</th>\n",
       "      <th>Tot_Suplr_Srvcs</th>\n",
       "      <th>Suplr_Sbmtd_Chrgs</th>\n",
       "      <th>Suplr_Mdcr_Pymt_Amt</th>\n",
       "      <th>Rndrng_Prvdr_Type_Intensive Cardiac Rehabilitation</th>\n",
       "      <th>Rndrng_Prvdr_Type_Medical Genetics and Genomics</th>\n",
       "      <th>Rndrng_Prvdr_Type_Medicare Diabetes Preventive Program</th>\n",
       "      <th>Rndrng_Prvdr_Type_Undersea and Hyperbaric Medicine</th>\n",
       "    </tr>\n",
       "  </thead>\n",
       "  <tbody>\n",
       "    <tr>\n",
       "      <th>0</th>\n",
       "      <td>23.0</td>\n",
       "      <td>12</td>\n",
       "      <td>81</td>\n",
       "      <td>97.0</td>\n",
       "      <td>26523.61</td>\n",
       "      <td>10310.43</td>\n",
       "      <td>2.3971</td>\n",
       "      <td>0</td>\n",
       "      <td>1</td>\n",
       "      <td>0</td>\n",
       "      <td>...</td>\n",
       "      <td>2.0</td>\n",
       "      <td>27.0</td>\n",
       "      <td>22.0</td>\n",
       "      <td>22.0</td>\n",
       "      <td>2416.94</td>\n",
       "      <td>206.82</td>\n",
       "      <td>0</td>\n",
       "      <td>0</td>\n",
       "      <td>0</td>\n",
       "      <td>0</td>\n",
       "    </tr>\n",
       "    <tr>\n",
       "      <th>1</th>\n",
       "      <td>12.0</td>\n",
       "      <td>10</td>\n",
       "      <td>478</td>\n",
       "      <td>2200.0</td>\n",
       "      <td>251257.08</td>\n",
       "      <td>108854.08</td>\n",
       "      <td>3.1036</td>\n",
       "      <td>0</td>\n",
       "      <td>1</td>\n",
       "      <td>0</td>\n",
       "      <td>...</td>\n",
       "      <td>29.0</td>\n",
       "      <td>12.0</td>\n",
       "      <td>35.0</td>\n",
       "      <td>1073.0</td>\n",
       "      <td>21152.53</td>\n",
       "      <td>4989.90</td>\n",
       "      <td>0</td>\n",
       "      <td>0</td>\n",
       "      <td>0</td>\n",
       "      <td>0</td>\n",
       "    </tr>\n",
       "    <tr>\n",
       "      <th>2</th>\n",
       "      <td>27.0</td>\n",
       "      <td>4</td>\n",
       "      <td>115</td>\n",
       "      <td>425.0</td>\n",
       "      <td>192569.00</td>\n",
       "      <td>39088.12</td>\n",
       "      <td>2.2260</td>\n",
       "      <td>0</td>\n",
       "      <td>1</td>\n",
       "      <td>0</td>\n",
       "      <td>...</td>\n",
       "      <td>14.0</td>\n",
       "      <td>27.0</td>\n",
       "      <td>31.0</td>\n",
       "      <td>88.0</td>\n",
       "      <td>7399.31</td>\n",
       "      <td>816.80</td>\n",
       "      <td>0</td>\n",
       "      <td>0</td>\n",
       "      <td>0</td>\n",
       "      <td>0</td>\n",
       "    </tr>\n",
       "    <tr>\n",
       "      <th>3</th>\n",
       "      <td>6.0</td>\n",
       "      <td>23</td>\n",
       "      <td>93</td>\n",
       "      <td>232.0</td>\n",
       "      <td>112254.00</td>\n",
       "      <td>20353.74</td>\n",
       "      <td>3.6583</td>\n",
       "      <td>0</td>\n",
       "      <td>0</td>\n",
       "      <td>1</td>\n",
       "      <td>...</td>\n",
       "      <td>3.0</td>\n",
       "      <td>27.0</td>\n",
       "      <td>16.0</td>\n",
       "      <td>22.0</td>\n",
       "      <td>5198.38</td>\n",
       "      <td>536.16</td>\n",
       "      <td>0</td>\n",
       "      <td>0</td>\n",
       "      <td>0</td>\n",
       "      <td>0</td>\n",
       "    </tr>\n",
       "    <tr>\n",
       "      <th>4</th>\n",
       "      <td>39.0</td>\n",
       "      <td>15</td>\n",
       "      <td>124</td>\n",
       "      <td>571.0</td>\n",
       "      <td>51715.00</td>\n",
       "      <td>15847.96</td>\n",
       "      <td>3.4528</td>\n",
       "      <td>0</td>\n",
       "      <td>1</td>\n",
       "      <td>0</td>\n",
       "      <td>...</td>\n",
       "      <td>32.0</td>\n",
       "      <td>30.0</td>\n",
       "      <td>96.0</td>\n",
       "      <td>4551.0</td>\n",
       "      <td>94467.84</td>\n",
       "      <td>27423.34</td>\n",
       "      <td>0</td>\n",
       "      <td>0</td>\n",
       "      <td>0</td>\n",
       "      <td>0</td>\n",
       "    </tr>\n",
       "    <tr>\n",
       "      <th>...</th>\n",
       "      <td>...</td>\n",
       "      <td>...</td>\n",
       "      <td>...</td>\n",
       "      <td>...</td>\n",
       "      <td>...</td>\n",
       "      <td>...</td>\n",
       "      <td>...</td>\n",
       "      <td>...</td>\n",
       "      <td>...</td>\n",
       "      <td>...</td>\n",
       "      <td>...</td>\n",
       "      <td>...</td>\n",
       "      <td>...</td>\n",
       "      <td>...</td>\n",
       "      <td>...</td>\n",
       "      <td>...</td>\n",
       "      <td>...</td>\n",
       "      <td>...</td>\n",
       "      <td>...</td>\n",
       "      <td>...</td>\n",
       "      <td>...</td>\n",
       "    </tr>\n",
       "    <tr>\n",
       "      <th>285092</th>\n",
       "      <td>12.0</td>\n",
       "      <td>43</td>\n",
       "      <td>130</td>\n",
       "      <td>601.0</td>\n",
       "      <td>116555.79</td>\n",
       "      <td>43330.56</td>\n",
       "      <td>0.9795</td>\n",
       "      <td>0</td>\n",
       "      <td>0</td>\n",
       "      <td>1</td>\n",
       "      <td>...</td>\n",
       "      <td>25.0</td>\n",
       "      <td>14.0</td>\n",
       "      <td>57.0</td>\n",
       "      <td>356.0</td>\n",
       "      <td>14225.17</td>\n",
       "      <td>3270.40</td>\n",
       "      <td>0</td>\n",
       "      <td>0</td>\n",
       "      <td>0</td>\n",
       "      <td>0</td>\n",
       "    </tr>\n",
       "    <tr>\n",
       "      <th>285093</th>\n",
       "      <td>12.0</td>\n",
       "      <td>35</td>\n",
       "      <td>1320</td>\n",
       "      <td>7403.0</td>\n",
       "      <td>849187.00</td>\n",
       "      <td>463528.14</td>\n",
       "      <td>1.2510</td>\n",
       "      <td>0</td>\n",
       "      <td>0</td>\n",
       "      <td>1</td>\n",
       "      <td>...</td>\n",
       "      <td>79.0</td>\n",
       "      <td>108.0</td>\n",
       "      <td>632.0</td>\n",
       "      <td>15842.0</td>\n",
       "      <td>202589.15</td>\n",
       "      <td>45630.23</td>\n",
       "      <td>0</td>\n",
       "      <td>0</td>\n",
       "      <td>0</td>\n",
       "      <td>0</td>\n",
       "    </tr>\n",
       "    <tr>\n",
       "      <th>285094</th>\n",
       "      <td>12.0</td>\n",
       "      <td>28</td>\n",
       "      <td>108</td>\n",
       "      <td>197.0</td>\n",
       "      <td>40321.46</td>\n",
       "      <td>8318.18</td>\n",
       "      <td>1.4878</td>\n",
       "      <td>0</td>\n",
       "      <td>1</td>\n",
       "      <td>0</td>\n",
       "      <td>...</td>\n",
       "      <td>5.0</td>\n",
       "      <td>27.0</td>\n",
       "      <td>16.0</td>\n",
       "      <td>331.0</td>\n",
       "      <td>926.79</td>\n",
       "      <td>43.26</td>\n",
       "      <td>0</td>\n",
       "      <td>0</td>\n",
       "      <td>0</td>\n",
       "      <td>0</td>\n",
       "    </tr>\n",
       "    <tr>\n",
       "      <th>285095</th>\n",
       "      <td>6.0</td>\n",
       "      <td>44</td>\n",
       "      <td>408</td>\n",
       "      <td>1239.0</td>\n",
       "      <td>205365.50</td>\n",
       "      <td>73037.90</td>\n",
       "      <td>1.3153</td>\n",
       "      <td>0</td>\n",
       "      <td>1</td>\n",
       "      <td>0</td>\n",
       "      <td>...</td>\n",
       "      <td>30.0</td>\n",
       "      <td>18.0</td>\n",
       "      <td>53.0</td>\n",
       "      <td>572.0</td>\n",
       "      <td>14068.52</td>\n",
       "      <td>3461.25</td>\n",
       "      <td>0</td>\n",
       "      <td>0</td>\n",
       "      <td>0</td>\n",
       "      <td>0</td>\n",
       "    </tr>\n",
       "    <tr>\n",
       "      <th>285096</th>\n",
       "      <td>13.0</td>\n",
       "      <td>29</td>\n",
       "      <td>35</td>\n",
       "      <td>315.0</td>\n",
       "      <td>22182.00</td>\n",
       "      <td>5214.41</td>\n",
       "      <td>1.0969</td>\n",
       "      <td>0</td>\n",
       "      <td>0</td>\n",
       "      <td>1</td>\n",
       "      <td>...</td>\n",
       "      <td>20.0</td>\n",
       "      <td>1307.0</td>\n",
       "      <td>2524.0</td>\n",
       "      <td>5267.0</td>\n",
       "      <td>3417298.07</td>\n",
       "      <td>2275573.51</td>\n",
       "      <td>0</td>\n",
       "      <td>0</td>\n",
       "      <td>0</td>\n",
       "      <td>0</td>\n",
       "    </tr>\n",
       "  </tbody>\n",
       "</table>\n",
       "<p>285097 rows × 123 columns</p>\n",
       "</div>"
      ],
      "text/plain": [
       "        Rndrng_Prvdr_State_FIPS  Tot_HCPCS_Cds  Tot_Benes_PartB  Tot_Srvcs  \\\n",
       "0                          23.0             12               81       97.0   \n",
       "1                          12.0             10              478     2200.0   \n",
       "2                          27.0              4              115      425.0   \n",
       "3                           6.0             23               93      232.0   \n",
       "4                          39.0             15              124      571.0   \n",
       "...                         ...            ...              ...        ...   \n",
       "285092                     12.0             43              130      601.0   \n",
       "285093                     12.0             35             1320     7403.0   \n",
       "285094                     12.0             28              108      197.0   \n",
       "285095                      6.0             44              408     1239.0   \n",
       "285096                     13.0             29               35      315.0   \n",
       "\n",
       "        Tot_Sbmtd_Chrg  Tot_Mdcr_Pymt_Amt  Bene_Avg_Risk_Scre  Exclusion  \\\n",
       "0             26523.61           10310.43              2.3971          0   \n",
       "1            251257.08          108854.08              3.1036          0   \n",
       "2            192569.00           39088.12              2.2260          0   \n",
       "3            112254.00           20353.74              3.6583          0   \n",
       "4             51715.00           15847.96              3.4528          0   \n",
       "...                ...                ...                 ...        ...   \n",
       "285092       116555.79           43330.56              0.9795          0   \n",
       "285093       849187.00          463528.14              1.2510          0   \n",
       "285094        40321.46            8318.18              1.4878          0   \n",
       "285095       205365.50           73037.90              1.3153          0   \n",
       "285096        22182.00            5214.41              1.0969          0   \n",
       "\n",
       "        Rndrng_Prvdr_Gndr_F  Rndrng_Prvdr_Gndr_M  ...  Tot_Suplr_HCPCS_Cds  \\\n",
       "0                         1                    0  ...                  2.0   \n",
       "1                         1                    0  ...                 29.0   \n",
       "2                         1                    0  ...                 14.0   \n",
       "3                         0                    1  ...                  3.0   \n",
       "4                         1                    0  ...                 32.0   \n",
       "...                     ...                  ...  ...                  ...   \n",
       "285092                    0                    1  ...                 25.0   \n",
       "285093                    0                    1  ...                 79.0   \n",
       "285094                    1                    0  ...                  5.0   \n",
       "285095                    1                    0  ...                 30.0   \n",
       "285096                    0                    1  ...                 20.0   \n",
       "\n",
       "        Tot_Suplr_Benes  Tot_Suplr_Clms  Tot_Suplr_Srvcs  Suplr_Sbmtd_Chrgs  \\\n",
       "0                  27.0            22.0             22.0            2416.94   \n",
       "1                  12.0            35.0           1073.0           21152.53   \n",
       "2                  27.0            31.0             88.0            7399.31   \n",
       "3                  27.0            16.0             22.0            5198.38   \n",
       "4                  30.0            96.0           4551.0           94467.84   \n",
       "...                 ...             ...              ...                ...   \n",
       "285092             14.0            57.0            356.0           14225.17   \n",
       "285093            108.0           632.0          15842.0          202589.15   \n",
       "285094             27.0            16.0            331.0             926.79   \n",
       "285095             18.0            53.0            572.0           14068.52   \n",
       "285096           1307.0          2524.0           5267.0         3417298.07   \n",
       "\n",
       "        Suplr_Mdcr_Pymt_Amt  \\\n",
       "0                    206.82   \n",
       "1                   4989.90   \n",
       "2                    816.80   \n",
       "3                    536.16   \n",
       "4                  27423.34   \n",
       "...                     ...   \n",
       "285092              3270.40   \n",
       "285093             45630.23   \n",
       "285094                43.26   \n",
       "285095              3461.25   \n",
       "285096           2275573.51   \n",
       "\n",
       "        Rndrng_Prvdr_Type_Intensive Cardiac Rehabilitation  \\\n",
       "0                                                       0    \n",
       "1                                                       0    \n",
       "2                                                       0    \n",
       "3                                                       0    \n",
       "4                                                       0    \n",
       "...                                                   ...    \n",
       "285092                                                  0    \n",
       "285093                                                  0    \n",
       "285094                                                  0    \n",
       "285095                                                  0    \n",
       "285096                                                  0    \n",
       "\n",
       "        Rndrng_Prvdr_Type_Medical Genetics and Genomics  \\\n",
       "0                                                     0   \n",
       "1                                                     0   \n",
       "2                                                     0   \n",
       "3                                                     0   \n",
       "4                                                     0   \n",
       "...                                                 ...   \n",
       "285092                                                0   \n",
       "285093                                                0   \n",
       "285094                                                0   \n",
       "285095                                                0   \n",
       "285096                                                0   \n",
       "\n",
       "        Rndrng_Prvdr_Type_Medicare Diabetes Preventive Program  \\\n",
       "0                                                       0        \n",
       "1                                                       0        \n",
       "2                                                       0        \n",
       "3                                                       0        \n",
       "4                                                       0        \n",
       "...                                                   ...        \n",
       "285092                                                  0        \n",
       "285093                                                  0        \n",
       "285094                                                  0        \n",
       "285095                                                  0        \n",
       "285096                                                  0        \n",
       "\n",
       "        Rndrng_Prvdr_Type_Undersea and Hyperbaric Medicine  \n",
       "0                                                       0   \n",
       "1                                                       0   \n",
       "2                                                       0   \n",
       "3                                                       0   \n",
       "4                                                       0   \n",
       "...                                                   ...   \n",
       "285092                                                  0   \n",
       "285093                                                  0   \n",
       "285094                                                  0   \n",
       "285095                                                  0   \n",
       "285096                                                  0   \n",
       "\n",
       "[285097 rows x 123 columns]"
      ]
     },
     "execution_count": 3,
     "metadata": {},
     "output_type": "execute_result"
    }
   ],
   "source": [
    "data_19 = pd.read_csv('train_and_test_dataset\\combined_data_19.csv', sep=',')\n",
    "column_ordered_list = [column for column in data_1718]\n",
    "data_19 = data_19.loc[:, column_ordered_list]\n",
    "data_19"
   ]
  },
  {
   "cell_type": "code",
   "execution_count": 4,
   "id": "4122814d",
   "metadata": {},
   "outputs": [],
   "source": [
    "#The 2019 data was used as the test set\n",
    "y_test = data_19['Exclusion'].astype('int')\n",
    "x_test = data_19.drop(labels = 'Exclusion',axis = 1)"
   ]
  },
  {
   "cell_type": "code",
   "execution_count": 7,
   "id": "9eff7efc",
   "metadata": {},
   "outputs": [],
   "source": [
    "#the first sampling method -- RandomOverSampler\n",
    "y = data_1718['Exclusion'].astype('int')\n",
    "x = data_1718.drop(labels = 'Exclusion',axis = 1)"
   ]
  },
  {
   "cell_type": "code",
   "execution_count": 8,
   "id": "2f5a8a64",
   "metadata": {},
   "outputs": [],
   "source": [
    "#This is the random upsampling method\n",
    "#This is the first sampling method\n",
    "ros = RandomOverSampler(sampling_strategy='auto', random_state = None)\n",
    "x_resampled_ros, y_resampled_ros = ros.fit_resample(x, y)\n",
    "x_resampled_ros.to_csv('resampled_datasets/x_resampled_ros.csv',index=False)\n",
    "y_resampled_ros.to_csv('resampled_datasets/y_resampled_ros.csv',index=False)"
   ]
  },
  {
   "cell_type": "code",
   "execution_count": 49,
   "id": "a22132b1",
   "metadata": {},
   "outputs": [
    {
     "data": {
      "text/html": [
       "<div>\n",
       "<style scoped>\n",
       "    .dataframe tbody tr th:only-of-type {\n",
       "        vertical-align: middle;\n",
       "    }\n",
       "\n",
       "    .dataframe tbody tr th {\n",
       "        vertical-align: top;\n",
       "    }\n",
       "\n",
       "    .dataframe thead th {\n",
       "        text-align: right;\n",
       "    }\n",
       "</style>\n",
       "<table border=\"1\" class=\"dataframe\">\n",
       "  <thead>\n",
       "    <tr style=\"text-align: right;\">\n",
       "      <th></th>\n",
       "      <th>Rndrng_Prvdr_State_FIPS</th>\n",
       "      <th>Tot_HCPCS_Cds</th>\n",
       "      <th>Tot_Benes_PartB</th>\n",
       "      <th>Tot_Srvcs</th>\n",
       "      <th>Tot_Sbmtd_Chrg</th>\n",
       "      <th>Tot_Mdcr_Pymt_Amt</th>\n",
       "      <th>Bene_Avg_Risk_Scre</th>\n",
       "      <th>Exclusion</th>\n",
       "      <th>Rndrng_Prvdr_Gndr_F</th>\n",
       "      <th>Rndrng_Prvdr_Gndr_M</th>\n",
       "      <th>...</th>\n",
       "      <th>Tot_Drug_Cst</th>\n",
       "      <th>Tot_Benes_PartD</th>\n",
       "      <th>Rfrg_Prvdr_State_FIPS</th>\n",
       "      <th>Tot_Suplrs</th>\n",
       "      <th>Tot_Suplr_HCPCS_Cds</th>\n",
       "      <th>Tot_Suplr_Benes</th>\n",
       "      <th>Tot_Suplr_Clms</th>\n",
       "      <th>Tot_Suplr_Srvcs</th>\n",
       "      <th>Suplr_Sbmtd_Chrgs</th>\n",
       "      <th>Suplr_Mdcr_Pymt_Amt</th>\n",
       "    </tr>\n",
       "  </thead>\n",
       "  <tbody>\n",
       "    <tr>\n",
       "      <th>0</th>\n",
       "      <td>23.0</td>\n",
       "      <td>12</td>\n",
       "      <td>81</td>\n",
       "      <td>97.0</td>\n",
       "      <td>26523.61</td>\n",
       "      <td>10310.43</td>\n",
       "      <td>2.3971</td>\n",
       "      <td>0</td>\n",
       "      <td>1</td>\n",
       "      <td>0</td>\n",
       "      <td>...</td>\n",
       "      <td>8145.46</td>\n",
       "      <td>66.0</td>\n",
       "      <td>23</td>\n",
       "      <td>1.0</td>\n",
       "      <td>2.0</td>\n",
       "      <td>27.0</td>\n",
       "      <td>22.0</td>\n",
       "      <td>22.0</td>\n",
       "      <td>2416.94</td>\n",
       "      <td>206.82</td>\n",
       "    </tr>\n",
       "    <tr>\n",
       "      <th>1</th>\n",
       "      <td>12.0</td>\n",
       "      <td>10</td>\n",
       "      <td>478</td>\n",
       "      <td>2200.0</td>\n",
       "      <td>251257.08</td>\n",
       "      <td>108854.08</td>\n",
       "      <td>3.1036</td>\n",
       "      <td>0</td>\n",
       "      <td>1</td>\n",
       "      <td>0</td>\n",
       "      <td>...</td>\n",
       "      <td>31594.29</td>\n",
       "      <td>101.0</td>\n",
       "      <td>12</td>\n",
       "      <td>6.0</td>\n",
       "      <td>29.0</td>\n",
       "      <td>12.0</td>\n",
       "      <td>35.0</td>\n",
       "      <td>1073.0</td>\n",
       "      <td>21152.53</td>\n",
       "      <td>4989.90</td>\n",
       "    </tr>\n",
       "    <tr>\n",
       "      <th>2</th>\n",
       "      <td>27.0</td>\n",
       "      <td>4</td>\n",
       "      <td>115</td>\n",
       "      <td>425.0</td>\n",
       "      <td>192569.00</td>\n",
       "      <td>39088.12</td>\n",
       "      <td>2.2260</td>\n",
       "      <td>0</td>\n",
       "      <td>1</td>\n",
       "      <td>0</td>\n",
       "      <td>...</td>\n",
       "      <td>14911.73</td>\n",
       "      <td>99.0</td>\n",
       "      <td>27</td>\n",
       "      <td>3.0</td>\n",
       "      <td>14.0</td>\n",
       "      <td>27.0</td>\n",
       "      <td>31.0</td>\n",
       "      <td>88.0</td>\n",
       "      <td>7399.31</td>\n",
       "      <td>816.80</td>\n",
       "    </tr>\n",
       "    <tr>\n",
       "      <th>3</th>\n",
       "      <td>6.0</td>\n",
       "      <td>23</td>\n",
       "      <td>93</td>\n",
       "      <td>232.0</td>\n",
       "      <td>112254.00</td>\n",
       "      <td>20353.74</td>\n",
       "      <td>3.6583</td>\n",
       "      <td>0</td>\n",
       "      <td>0</td>\n",
       "      <td>1</td>\n",
       "      <td>...</td>\n",
       "      <td>9958.75</td>\n",
       "      <td>25.0</td>\n",
       "      <td>6</td>\n",
       "      <td>2.0</td>\n",
       "      <td>3.0</td>\n",
       "      <td>27.0</td>\n",
       "      <td>16.0</td>\n",
       "      <td>22.0</td>\n",
       "      <td>5198.38</td>\n",
       "      <td>536.16</td>\n",
       "    </tr>\n",
       "    <tr>\n",
       "      <th>4</th>\n",
       "      <td>39.0</td>\n",
       "      <td>15</td>\n",
       "      <td>124</td>\n",
       "      <td>571.0</td>\n",
       "      <td>51715.00</td>\n",
       "      <td>15847.96</td>\n",
       "      <td>3.4528</td>\n",
       "      <td>0</td>\n",
       "      <td>1</td>\n",
       "      <td>0</td>\n",
       "      <td>...</td>\n",
       "      <td>3365.41</td>\n",
       "      <td>80.0</td>\n",
       "      <td>39</td>\n",
       "      <td>11.0</td>\n",
       "      <td>32.0</td>\n",
       "      <td>30.0</td>\n",
       "      <td>96.0</td>\n",
       "      <td>4551.0</td>\n",
       "      <td>94467.84</td>\n",
       "      <td>27423.34</td>\n",
       "    </tr>\n",
       "    <tr>\n",
       "      <th>...</th>\n",
       "      <td>...</td>\n",
       "      <td>...</td>\n",
       "      <td>...</td>\n",
       "      <td>...</td>\n",
       "      <td>...</td>\n",
       "      <td>...</td>\n",
       "      <td>...</td>\n",
       "      <td>...</td>\n",
       "      <td>...</td>\n",
       "      <td>...</td>\n",
       "      <td>...</td>\n",
       "      <td>...</td>\n",
       "      <td>...</td>\n",
       "      <td>...</td>\n",
       "      <td>...</td>\n",
       "      <td>...</td>\n",
       "      <td>...</td>\n",
       "      <td>...</td>\n",
       "      <td>...</td>\n",
       "      <td>...</td>\n",
       "      <td>...</td>\n",
       "    </tr>\n",
       "    <tr>\n",
       "      <th>285219</th>\n",
       "      <td>12.0</td>\n",
       "      <td>43</td>\n",
       "      <td>130</td>\n",
       "      <td>601.0</td>\n",
       "      <td>116555.79</td>\n",
       "      <td>43330.56</td>\n",
       "      <td>0.9795</td>\n",
       "      <td>0</td>\n",
       "      <td>0</td>\n",
       "      <td>1</td>\n",
       "      <td>...</td>\n",
       "      <td>75727.54</td>\n",
       "      <td>128.0</td>\n",
       "      <td>12</td>\n",
       "      <td>14.0</td>\n",
       "      <td>25.0</td>\n",
       "      <td>14.0</td>\n",
       "      <td>57.0</td>\n",
       "      <td>356.0</td>\n",
       "      <td>14225.17</td>\n",
       "      <td>3270.40</td>\n",
       "    </tr>\n",
       "    <tr>\n",
       "      <th>285220</th>\n",
       "      <td>12.0</td>\n",
       "      <td>35</td>\n",
       "      <td>1320</td>\n",
       "      <td>7403.0</td>\n",
       "      <td>849187.00</td>\n",
       "      <td>463528.14</td>\n",
       "      <td>1.2510</td>\n",
       "      <td>0</td>\n",
       "      <td>0</td>\n",
       "      <td>1</td>\n",
       "      <td>...</td>\n",
       "      <td>840408.21</td>\n",
       "      <td>1008.0</td>\n",
       "      <td>12</td>\n",
       "      <td>62.0</td>\n",
       "      <td>79.0</td>\n",
       "      <td>108.0</td>\n",
       "      <td>632.0</td>\n",
       "      <td>15842.0</td>\n",
       "      <td>202589.15</td>\n",
       "      <td>45630.23</td>\n",
       "    </tr>\n",
       "    <tr>\n",
       "      <th>285221</th>\n",
       "      <td>12.0</td>\n",
       "      <td>28</td>\n",
       "      <td>108</td>\n",
       "      <td>197.0</td>\n",
       "      <td>40321.46</td>\n",
       "      <td>8318.18</td>\n",
       "      <td>1.4878</td>\n",
       "      <td>0</td>\n",
       "      <td>1</td>\n",
       "      <td>0</td>\n",
       "      <td>...</td>\n",
       "      <td>17685.42</td>\n",
       "      <td>97.0</td>\n",
       "      <td>12</td>\n",
       "      <td>3.0</td>\n",
       "      <td>5.0</td>\n",
       "      <td>27.0</td>\n",
       "      <td>16.0</td>\n",
       "      <td>331.0</td>\n",
       "      <td>926.79</td>\n",
       "      <td>43.26</td>\n",
       "    </tr>\n",
       "    <tr>\n",
       "      <th>285222</th>\n",
       "      <td>6.0</td>\n",
       "      <td>44</td>\n",
       "      <td>408</td>\n",
       "      <td>1239.0</td>\n",
       "      <td>205365.50</td>\n",
       "      <td>73037.90</td>\n",
       "      <td>1.3153</td>\n",
       "      <td>0</td>\n",
       "      <td>1</td>\n",
       "      <td>0</td>\n",
       "      <td>...</td>\n",
       "      <td>333681.06</td>\n",
       "      <td>556.0</td>\n",
       "      <td>6</td>\n",
       "      <td>15.0</td>\n",
       "      <td>30.0</td>\n",
       "      <td>18.0</td>\n",
       "      <td>53.0</td>\n",
       "      <td>572.0</td>\n",
       "      <td>14068.52</td>\n",
       "      <td>3461.25</td>\n",
       "    </tr>\n",
       "    <tr>\n",
       "      <th>285223</th>\n",
       "      <td>13.0</td>\n",
       "      <td>29</td>\n",
       "      <td>35</td>\n",
       "      <td>315.0</td>\n",
       "      <td>22182.00</td>\n",
       "      <td>5214.41</td>\n",
       "      <td>1.0969</td>\n",
       "      <td>0</td>\n",
       "      <td>0</td>\n",
       "      <td>1</td>\n",
       "      <td>...</td>\n",
       "      <td>77374.92</td>\n",
       "      <td>89.0</td>\n",
       "      <td>13</td>\n",
       "      <td>70.0</td>\n",
       "      <td>20.0</td>\n",
       "      <td>1307.0</td>\n",
       "      <td>2524.0</td>\n",
       "      <td>5267.0</td>\n",
       "      <td>3417298.07</td>\n",
       "      <td>2275573.51</td>\n",
       "    </tr>\n",
       "  </tbody>\n",
       "</table>\n",
       "<p>285097 rows × 123 columns</p>\n",
       "</div>"
      ],
      "text/plain": [
       "        Rndrng_Prvdr_State_FIPS  Tot_HCPCS_Cds  Tot_Benes_PartB  Tot_Srvcs  \\\n",
       "0                          23.0             12               81       97.0   \n",
       "1                          12.0             10              478     2200.0   \n",
       "2                          27.0              4              115      425.0   \n",
       "3                           6.0             23               93      232.0   \n",
       "4                          39.0             15              124      571.0   \n",
       "...                         ...            ...              ...        ...   \n",
       "285219                     12.0             43              130      601.0   \n",
       "285220                     12.0             35             1320     7403.0   \n",
       "285221                     12.0             28              108      197.0   \n",
       "285222                      6.0             44              408     1239.0   \n",
       "285223                     13.0             29               35      315.0   \n",
       "\n",
       "        Tot_Sbmtd_Chrg  Tot_Mdcr_Pymt_Amt  Bene_Avg_Risk_Scre  Exclusion  \\\n",
       "0             26523.61           10310.43              2.3971          0   \n",
       "1            251257.08          108854.08              3.1036          0   \n",
       "2            192569.00           39088.12              2.2260          0   \n",
       "3            112254.00           20353.74              3.6583          0   \n",
       "4             51715.00           15847.96              3.4528          0   \n",
       "...                ...                ...                 ...        ...   \n",
       "285219       116555.79           43330.56              0.9795          0   \n",
       "285220       849187.00          463528.14              1.2510          0   \n",
       "285221        40321.46            8318.18              1.4878          0   \n",
       "285222       205365.50           73037.90              1.3153          0   \n",
       "285223        22182.00            5214.41              1.0969          0   \n",
       "\n",
       "        Rndrng_Prvdr_Gndr_F  Rndrng_Prvdr_Gndr_M  ...  Tot_Drug_Cst  \\\n",
       "0                         1                    0  ...       8145.46   \n",
       "1                         1                    0  ...      31594.29   \n",
       "2                         1                    0  ...      14911.73   \n",
       "3                         0                    1  ...       9958.75   \n",
       "4                         1                    0  ...       3365.41   \n",
       "...                     ...                  ...  ...           ...   \n",
       "285219                    0                    1  ...      75727.54   \n",
       "285220                    0                    1  ...     840408.21   \n",
       "285221                    1                    0  ...      17685.42   \n",
       "285222                    1                    0  ...     333681.06   \n",
       "285223                    0                    1  ...      77374.92   \n",
       "\n",
       "        Tot_Benes_PartD  Rfrg_Prvdr_State_FIPS  Tot_Suplrs  \\\n",
       "0                  66.0                     23         1.0   \n",
       "1                 101.0                     12         6.0   \n",
       "2                  99.0                     27         3.0   \n",
       "3                  25.0                      6         2.0   \n",
       "4                  80.0                     39        11.0   \n",
       "...                 ...                    ...         ...   \n",
       "285219            128.0                     12        14.0   \n",
       "285220           1008.0                     12        62.0   \n",
       "285221             97.0                     12         3.0   \n",
       "285222            556.0                      6        15.0   \n",
       "285223             89.0                     13        70.0   \n",
       "\n",
       "        Tot_Suplr_HCPCS_Cds  Tot_Suplr_Benes  Tot_Suplr_Clms  Tot_Suplr_Srvcs  \\\n",
       "0                       2.0             27.0            22.0             22.0   \n",
       "1                      29.0             12.0            35.0           1073.0   \n",
       "2                      14.0             27.0            31.0             88.0   \n",
       "3                       3.0             27.0            16.0             22.0   \n",
       "4                      32.0             30.0            96.0           4551.0   \n",
       "...                     ...              ...             ...              ...   \n",
       "285219                 25.0             14.0            57.0            356.0   \n",
       "285220                 79.0            108.0           632.0          15842.0   \n",
       "285221                  5.0             27.0            16.0            331.0   \n",
       "285222                 30.0             18.0            53.0            572.0   \n",
       "285223                 20.0           1307.0          2524.0           5267.0   \n",
       "\n",
       "        Suplr_Sbmtd_Chrgs  Suplr_Mdcr_Pymt_Amt  \n",
       "0                 2416.94               206.82  \n",
       "1                21152.53              4989.90  \n",
       "2                 7399.31               816.80  \n",
       "3                 5198.38               536.16  \n",
       "4                94467.84             27423.34  \n",
       "...                   ...                  ...  \n",
       "285219           14225.17              3270.40  \n",
       "285220          202589.15             45630.23  \n",
       "285221             926.79                43.26  \n",
       "285222           14068.52              3461.25  \n",
       "285223         3417298.07           2275573.51  \n",
       "\n",
       "[285097 rows x 123 columns]"
      ]
     },
     "execution_count": 49,
     "metadata": {},
     "output_type": "execute_result"
    }
   ],
   "source": [
    "# C = data_19.dropna(axis=0, how='any')\n",
    "# C"
   ]
  },
  {
   "cell_type": "code",
   "execution_count": 51,
   "id": "388e32ec",
   "metadata": {},
   "outputs": [],
   "source": [
    "# C.to_csv('train_and_test_dataset\\combined_data_19.csv', index = False)"
   ]
  },
  {
   "cell_type": "code",
   "execution_count": 9,
   "id": "76053ac4",
   "metadata": {},
   "outputs": [
    {
     "data": {
      "text/plain": [
       "['trained_models/rdc_ros.pkl']"
      ]
     },
     "execution_count": 9,
     "metadata": {},
     "output_type": "execute_result"
    }
   ],
   "source": [
    "#Random Forset Classifier under the first resampling method\n",
    "\n",
    "rdc_ros = RandomForestClassifier(random_state = None)\n",
    "rdc_ros = rdc_ros.fit(x_resampled_ros, y_resampled_ros)\n",
    "joblib.dump(rdc_ros, 'trained_models/rdc_ros.pkl')"
   ]
  },
  {
   "cell_type": "code",
   "execution_count": 44,
   "id": "09d43e62",
   "metadata": {},
   "outputs": [
    {
     "name": "stderr",
     "output_type": "stream",
     "text": [
      "D:\\anaconda3\\envs\\MLBDenv\\lib\\site-packages\\sklearn\\linear_model\\_logistic.py:444: ConvergenceWarning: lbfgs failed to converge (status=1):\n",
      "STOP: TOTAL NO. of ITERATIONS REACHED LIMIT.\n",
      "\n",
      "Increase the number of iterations (max_iter) or scale the data as shown in:\n",
      "    https://scikit-learn.org/stable/modules/preprocessing.html\n",
      "Please also refer to the documentation for alternative solver options:\n",
      "    https://scikit-learn.org/stable/modules/linear_model.html#logistic-regression\n",
      "  n_iter_i = _check_optimize_result(\n"
     ]
    },
    {
     "data": {
      "text/plain": [
       "['trained_models/lr_ros.pkl']"
      ]
     },
     "execution_count": 44,
     "metadata": {},
     "output_type": "execute_result"
    }
   ],
   "source": [
    "#logistic regression under the first resampling method\n",
    "\n",
    "lr_ros = LogisticRegression(random_state=None)\n",
    "lr_ros = lr_ros.fit(x_resampled_ros, y_resampled_ros)\n",
    "joblib.dump(lr_ros, 'trained_models/lr_ros.pkl')"
   ]
  },
  {
   "cell_type": "code",
   "execution_count": 31,
   "id": "585b8dfa",
   "metadata": {},
   "outputs": [
    {
     "data": {
      "text/plain": [
       "['trained_models/gnb_ros.pkl']"
      ]
     },
     "execution_count": 31,
     "metadata": {},
     "output_type": "execute_result"
    }
   ],
   "source": [
    "#Naive Bayes under the first resampling method\n",
    "\n",
    "gnb_ros = GaussianNB()\n",
    "gnb_ros = gnb_ros.fit(x_resampled_ros, y_resampled_ros)\n",
    "joblib.dump(gnb_ros, 'trained_models/gnb_ros.pkl')"
   ]
  },
  {
   "cell_type": "code",
   "execution_count": 11,
   "id": "e45c269d",
   "metadata": {},
   "outputs": [],
   "source": [
    "#the second resampling method, RandomUnderSampler\n",
    "\n",
    "rus = RandomUnderSampler(random_state=None)\n",
    "x_resampled_rus, y_resampled_rus = rus.fit_resample(x, y)\n",
    "x_resampled_rus.to_csv('resampled_datasets/x_resampled_rus.csv',index=False)\n",
    "y_resampled_rus.to_csv('resampled_datasets/y_resampled_rus.csv',index=False)"
   ]
  },
  {
   "cell_type": "code",
   "execution_count": 12,
   "id": "5cbb7aca",
   "metadata": {},
   "outputs": [
    {
     "data": {
      "text/plain": [
       "['trained_models/rdc_rus.pkl']"
      ]
     },
     "execution_count": 12,
     "metadata": {},
     "output_type": "execute_result"
    }
   ],
   "source": [
    "#Random Forset Classifier under the second resampling method\n",
    "\n",
    "rdc_rus = RandomForestClassifier(random_state = None)\n",
    "rdc_rus = rdc_rus.fit(x_resampled_rus, y_resampled_rus)\n",
    "joblib.dump(rdc_rus, 'trained_models/rdc_rus.pkl')"
   ]
  },
  {
   "cell_type": "code",
   "execution_count": 45,
   "id": "4f9e8a1d",
   "metadata": {},
   "outputs": [
    {
     "name": "stderr",
     "output_type": "stream",
     "text": [
      "D:\\anaconda3\\envs\\MLBDenv\\lib\\site-packages\\sklearn\\linear_model\\_logistic.py:444: ConvergenceWarning: lbfgs failed to converge (status=1):\n",
      "STOP: TOTAL NO. of ITERATIONS REACHED LIMIT.\n",
      "\n",
      "Increase the number of iterations (max_iter) or scale the data as shown in:\n",
      "    https://scikit-learn.org/stable/modules/preprocessing.html\n",
      "Please also refer to the documentation for alternative solver options:\n",
      "    https://scikit-learn.org/stable/modules/linear_model.html#logistic-regression\n",
      "  n_iter_i = _check_optimize_result(\n"
     ]
    },
    {
     "data": {
      "text/plain": [
       "['trained_models/lr_rus.pkl']"
      ]
     },
     "execution_count": 45,
     "metadata": {},
     "output_type": "execute_result"
    }
   ],
   "source": [
    "#logistic regression under the second resampling method\n",
    "\n",
    "lr_rus = LogisticRegression(random_state=None)\n",
    "lr_rus = lr_rus.fit(x_resampled_rus, y_resampled_rus)\n",
    "joblib.dump(lr_rus, 'trained_models/lr_rus.pkl')"
   ]
  },
  {
   "cell_type": "code",
   "execution_count": 32,
   "id": "57e09032",
   "metadata": {},
   "outputs": [
    {
     "data": {
      "text/plain": [
       "['trained_models/gnb_rus.pkl']"
      ]
     },
     "execution_count": 32,
     "metadata": {},
     "output_type": "execute_result"
    }
   ],
   "source": [
    "#Naive Bayes under the second resampling method\n",
    "\n",
    "gnb_rus = GaussianNB()\n",
    "gnb_rus = gnb_rus.fit(x_resampled_rus, y_resampled_rus)\n",
    "joblib.dump(gnb_rus, 'trained_models/gnb_rus.pkl')"
   ]
  },
  {
   "cell_type": "code",
   "execution_count": 14,
   "id": "46bd71aa",
   "metadata": {},
   "outputs": [],
   "source": [
    "#the third resampling method, SMOTE\n",
    "\n",
    "smo = SMOTE(sampling_strategy='auto',random_state=None)\n",
    "x_resampled_smo, y_resampled_smo = smo.fit_resample(x, y)\n",
    "x_resampled_smo.to_csv('resampled_datasets/x_resampled_smo.csv',index=False)\n",
    "y_resampled_smo.to_csv('resampled_datasets/y_resampled_smo.csv',index=False)"
   ]
  },
  {
   "cell_type": "code",
   "execution_count": 15,
   "id": "cd72be30",
   "metadata": {},
   "outputs": [
    {
     "data": {
      "text/plain": [
       "['trained_models/rdc_smo.pkl']"
      ]
     },
     "execution_count": 15,
     "metadata": {},
     "output_type": "execute_result"
    }
   ],
   "source": [
    "#Random Forset Classifier under the third resampling method\n",
    "\n",
    "rdc_smo = RandomForestClassifier(random_state = None)\n",
    "rdc_smo = rdc_smo.fit(x_resampled_smo, y_resampled_smo)\n",
    "joblib.dump(rdc_smo, 'trained_models/rdc_smo.pkl')"
   ]
  },
  {
   "cell_type": "code",
   "execution_count": 46,
   "id": "e9d917db",
   "metadata": {},
   "outputs": [
    {
     "name": "stderr",
     "output_type": "stream",
     "text": [
      "D:\\anaconda3\\envs\\MLBDenv\\lib\\site-packages\\sklearn\\linear_model\\_logistic.py:444: ConvergenceWarning: lbfgs failed to converge (status=1):\n",
      "STOP: TOTAL NO. of ITERATIONS REACHED LIMIT.\n",
      "\n",
      "Increase the number of iterations (max_iter) or scale the data as shown in:\n",
      "    https://scikit-learn.org/stable/modules/preprocessing.html\n",
      "Please also refer to the documentation for alternative solver options:\n",
      "    https://scikit-learn.org/stable/modules/linear_model.html#logistic-regression\n",
      "  n_iter_i = _check_optimize_result(\n"
     ]
    },
    {
     "data": {
      "text/plain": [
       "['trained_models/lr_smo.pkl']"
      ]
     },
     "execution_count": 46,
     "metadata": {},
     "output_type": "execute_result"
    }
   ],
   "source": [
    "#logistic regression under the third resampling method\n",
    "\n",
    "lr_smo = LogisticRegression(random_state=None)\n",
    "lr_smo = lr_smo.fit(x_resampled_smo, y_resampled_smo)\n",
    "joblib.dump(lr_smo, 'trained_models/lr_smo.pkl')"
   ]
  },
  {
   "cell_type": "code",
   "execution_count": 33,
   "id": "a4ff25a0",
   "metadata": {},
   "outputs": [
    {
     "data": {
      "text/plain": [
       "['trained_models/gnb_smo.pkl']"
      ]
     },
     "execution_count": 33,
     "metadata": {},
     "output_type": "execute_result"
    }
   ],
   "source": [
    "#Naive Bayes under the third resampling method\n",
    "\n",
    "gnb_smo = GaussianNB()\n",
    "gnb_smo = gnb_smo.fit(x_resampled_smo, y_resampled_smo)\n",
    "joblib.dump(gnb_smo, 'trained_models/gnb_smo.pkl')"
   ]
  },
  {
   "cell_type": "code",
   "execution_count": 16,
   "id": "3816ab3a",
   "metadata": {},
   "outputs": [],
   "source": [
    "#the fourth resampling method, BorderlineSMOTE\n",
    "\n",
    "bdlsmo = BorderlineSMOTE(sampling_strategy='auto',random_state=None,  kind='borderline-1') #kind='borderline-1' is the default choice\n",
    "x_resampled_bdlsmo, y_resampled_bdlsmo = bdlsmo.fit_resample(x, y)\n",
    "x_resampled_bdlsmo.to_csv('resampled_datasets/x_resampled_bdlsmo.csv',index=False)\n",
    "y_resampled_bdlsmo.to_csv('resampled_datasets/y_resampled_bdlsmo.csv',index=False)"
   ]
  },
  {
   "cell_type": "code",
   "execution_count": 17,
   "id": "233108c4",
   "metadata": {},
   "outputs": [
    {
     "data": {
      "text/plain": [
       "['trained_models/rdc_bdlsmo.pkl']"
      ]
     },
     "execution_count": 17,
     "metadata": {},
     "output_type": "execute_result"
    }
   ],
   "source": [
    "#Random Forset Classifier under the fourth resampling method\n",
    "\n",
    "rdc_bdlsmo = RandomForestClassifier(random_state = None)\n",
    "rdc_bdlsmo = rdc_bdlsmo.fit(x_resampled_bdlsmo, y_resampled_bdlsmo)\n",
    "joblib.dump(rdc_bdlsmo, 'trained_models/rdc_bdlsmo.pkl')"
   ]
  },
  {
   "cell_type": "code",
   "execution_count": 47,
   "id": "f9e289ee",
   "metadata": {},
   "outputs": [
    {
     "name": "stderr",
     "output_type": "stream",
     "text": [
      "D:\\anaconda3\\envs\\MLBDenv\\lib\\site-packages\\sklearn\\linear_model\\_logistic.py:444: ConvergenceWarning: lbfgs failed to converge (status=1):\n",
      "STOP: TOTAL NO. of ITERATIONS REACHED LIMIT.\n",
      "\n",
      "Increase the number of iterations (max_iter) or scale the data as shown in:\n",
      "    https://scikit-learn.org/stable/modules/preprocessing.html\n",
      "Please also refer to the documentation for alternative solver options:\n",
      "    https://scikit-learn.org/stable/modules/linear_model.html#logistic-regression\n",
      "  n_iter_i = _check_optimize_result(\n"
     ]
    },
    {
     "data": {
      "text/plain": [
       "['trained_models/lr_bdlsmo.pkl']"
      ]
     },
     "execution_count": 47,
     "metadata": {},
     "output_type": "execute_result"
    }
   ],
   "source": [
    "#logistic regression under the fourth resampling method\n",
    "\n",
    "lr_bdlsmo = LogisticRegression(random_state=None)\n",
    "lr_bdlsmo = lr_bdlsmo.fit(x_resampled_bdlsmo, y_resampled_bdlsmo)\n",
    "joblib.dump(lr_bdlsmo, 'trained_models/lr_bdlsmo.pkl')"
   ]
  },
  {
   "cell_type": "code",
   "execution_count": 34,
   "id": "7b5a2969",
   "metadata": {},
   "outputs": [
    {
     "data": {
      "text/plain": [
       "['trained_models/gnb_bdlsmo.pkl']"
      ]
     },
     "execution_count": 34,
     "metadata": {},
     "output_type": "execute_result"
    }
   ],
   "source": [
    "#Naive Bayes under the fourth resampling method\n",
    "\n",
    "gnb_bdlsmo = GaussianNB()\n",
    "gnb_bdlsmo = gnb_bdlsmo.fit(x_resampled_bdlsmo, y_resampled_bdlsmo)\n",
    "joblib.dump(gnb_bdlsmo, 'trained_models/gnb_bdlsmo.pkl')"
   ]
  },
  {
   "cell_type": "code",
   "execution_count": 18,
   "id": "633a74c4",
   "metadata": {},
   "outputs": [],
   "source": [
    "#the fifth resampling method, SVMSMOTE\n",
    "\n",
    "svmsmo = SVMSMOTE(sampling_strategy='auto',random_state=None)\n",
    "x_resampled_svmsmo, y_resampled_svmsmo = svmsmo.fit_resample(x, y)\n",
    "x_resampled_svmsmo.to_csv('resampled_datasets/x_resampled_svmsmo.csv',index=False)\n",
    "y_resampled_svmsmo.to_csv('resampled_datasets/y_resampled_svmsmo.csv',index=False)"
   ]
  },
  {
   "cell_type": "code",
   "execution_count": 19,
   "id": "26d371f4",
   "metadata": {},
   "outputs": [
    {
     "data": {
      "text/plain": [
       "['trained_models/rdc_svmsmo.pkl']"
      ]
     },
     "execution_count": 19,
     "metadata": {},
     "output_type": "execute_result"
    }
   ],
   "source": [
    "#Random Forset Classifier under the fifth resampling method\n",
    "\n",
    "rdc_svmsmo = RandomForestClassifier(random_state = None)\n",
    "rdc_svmsmo = rdc_svmsmo.fit(x_resampled_svmsmo, y_resampled_svmsmo)\n",
    "joblib.dump(rdc_svmsmo, 'trained_models/rdc_svmsmo.pkl')"
   ]
  },
  {
   "cell_type": "code",
   "execution_count": 48,
   "id": "5d2205a7",
   "metadata": {},
   "outputs": [
    {
     "name": "stderr",
     "output_type": "stream",
     "text": [
      "D:\\anaconda3\\envs\\MLBDenv\\lib\\site-packages\\sklearn\\linear_model\\_logistic.py:444: ConvergenceWarning: lbfgs failed to converge (status=1):\n",
      "STOP: TOTAL NO. of ITERATIONS REACHED LIMIT.\n",
      "\n",
      "Increase the number of iterations (max_iter) or scale the data as shown in:\n",
      "    https://scikit-learn.org/stable/modules/preprocessing.html\n",
      "Please also refer to the documentation for alternative solver options:\n",
      "    https://scikit-learn.org/stable/modules/linear_model.html#logistic-regression\n",
      "  n_iter_i = _check_optimize_result(\n"
     ]
    },
    {
     "data": {
      "text/plain": [
       "['trained_models/lr_svmsmo.pkl']"
      ]
     },
     "execution_count": 48,
     "metadata": {},
     "output_type": "execute_result"
    }
   ],
   "source": [
    "#logistic regression under the fifth resampling method\n",
    "\n",
    "lr_svmsmo = LogisticRegression(random_state=None)\n",
    "lr_svmsmo = lr_svmsmo.fit(x_resampled_svmsmo, y_resampled_svmsmo)\n",
    "joblib.dump(lr_svmsmo, 'trained_models/lr_svmsmo.pkl')"
   ]
  },
  {
   "cell_type": "code",
   "execution_count": 35,
   "id": "fe50711d",
   "metadata": {},
   "outputs": [
    {
     "data": {
      "text/plain": [
       "['trained_models/gnb_svmsmo.pkl']"
      ]
     },
     "execution_count": 35,
     "metadata": {},
     "output_type": "execute_result"
    }
   ],
   "source": [
    "#Naive Bayes under the fifth resampling method\n",
    "\n",
    "gnb_svmsmo = GaussianNB()\n",
    "gnb_svmsmo = gnb_svmsmo.fit(x_resampled_svmsmo, y_resampled_svmsmo)\n",
    "joblib.dump(gnb_svmsmo, 'trained_models/gnb_svmsmo.pkl')"
   ]
  },
  {
   "cell_type": "code",
   "execution_count": 20,
   "id": "b90460bd",
   "metadata": {},
   "outputs": [],
   "source": [
    "#the sixth resampling method, SMOTEENN\n",
    "\n",
    "smote_enn = SMOTEENN(random_state=None)\n",
    "x_resampled_smote_enn, y_resampled_smote_enn = smote_enn.fit_resample(x, y)\n",
    "x_resampled_smote_enn.to_csv('resampled_datasets/x_resampled_smote_enn.csv',index=False)\n",
    "y_resampled_smote_enn.to_csv('resampled_datasets/y_resampled_smote_enn.csv',index=False)"
   ]
  },
  {
   "cell_type": "code",
   "execution_count": 21,
   "id": "28e6bb62",
   "metadata": {},
   "outputs": [
    {
     "data": {
      "text/plain": [
       "['trained_models/rdc_smote_enn.pkl']"
      ]
     },
     "execution_count": 21,
     "metadata": {},
     "output_type": "execute_result"
    }
   ],
   "source": [
    "#Random Forset Classifier under the sixth resampling method\n",
    "\n",
    "rdc_smote_enn = RandomForestClassifier(random_state = None)\n",
    "rdc_smote_enn = rdc_smote_enn.fit(x_resampled_smote_enn, y_resampled_smote_enn)\n",
    "joblib.dump(rdc_smote_enn, 'trained_models/rdc_smote_enn.pkl')"
   ]
  },
  {
   "cell_type": "code",
   "execution_count": 49,
   "id": "d4900579",
   "metadata": {},
   "outputs": [
    {
     "name": "stderr",
     "output_type": "stream",
     "text": [
      "D:\\anaconda3\\envs\\MLBDenv\\lib\\site-packages\\sklearn\\linear_model\\_logistic.py:444: ConvergenceWarning: lbfgs failed to converge (status=1):\n",
      "STOP: TOTAL NO. of ITERATIONS REACHED LIMIT.\n",
      "\n",
      "Increase the number of iterations (max_iter) or scale the data as shown in:\n",
      "    https://scikit-learn.org/stable/modules/preprocessing.html\n",
      "Please also refer to the documentation for alternative solver options:\n",
      "    https://scikit-learn.org/stable/modules/linear_model.html#logistic-regression\n",
      "  n_iter_i = _check_optimize_result(\n"
     ]
    },
    {
     "data": {
      "text/plain": [
       "['trained_models/lr_smote_enn.pkl']"
      ]
     },
     "execution_count": 49,
     "metadata": {},
     "output_type": "execute_result"
    }
   ],
   "source": [
    "#ogistic regression under the sixth resampling method\n",
    "\n",
    "lr_smote_enn = LogisticRegression(random_state=None)\n",
    "lr_smote_enn = lr_smote_enn.fit(x_resampled_smote_enn, y_resampled_smote_enn)\n",
    "joblib.dump(lr_smote_enn, 'trained_models/lr_smote_enn.pkl')"
   ]
  },
  {
   "cell_type": "code",
   "execution_count": 36,
   "id": "5f273c21",
   "metadata": {},
   "outputs": [
    {
     "data": {
      "text/plain": [
       "['trained_models/gnb_smote_enn.pkl']"
      ]
     },
     "execution_count": 36,
     "metadata": {},
     "output_type": "execute_result"
    }
   ],
   "source": [
    "#Naive Bayes under the sixth resampling method\n",
    "\n",
    "gnb_smote_enn = GaussianNB()\n",
    "gnb_smote_enn = gnb_smote_enn.fit(x_resampled_smote_enn, y_resampled_smote_enn)\n",
    "joblib.dump(gnb_smote_enn, 'trained_models/gnb_smote_enn.pkl')"
   ]
  },
  {
   "cell_type": "code",
   "execution_count": 22,
   "id": "2182d48f",
   "metadata": {},
   "outputs": [],
   "source": [
    "#the seventh resampling method, SMOTETomek\n",
    "\n",
    "smote_tomek = SMOTETomek(sampling_strategy='auto',random_state=None)\n",
    "x_resampled_smote_tomek, y_resampled_smote_tomek = smote_tomek.fit_resample(x, y)\n",
    "x_resampled_smote_tomek.to_csv('resampled_datasets/x_resampled_smote_tomek.csv',index=False)\n",
    "y_resampled_smote_tomek.to_csv('resampled_datasets/y_resampled_smote_tomek.csv',index=False)"
   ]
  },
  {
   "cell_type": "code",
   "execution_count": 23,
   "id": "9b3f6e8a",
   "metadata": {},
   "outputs": [
    {
     "data": {
      "text/plain": [
       "['trained_models/rdc_smote_tomek.pkl']"
      ]
     },
     "execution_count": 23,
     "metadata": {},
     "output_type": "execute_result"
    }
   ],
   "source": [
    "#Random Forset Classifier under the seventh resampling method\n",
    "\n",
    "rdc_smote_tomek = RandomForestClassifier(random_state = None)\n",
    "rdc_smote_tomek = rdc_smote_tomek.fit(x_resampled_smote_tomek, y_resampled_smote_tomek)\n",
    "joblib.dump(rdc_smote_tomek, 'trained_models/rdc_smote_tomek.pkl')"
   ]
  },
  {
   "cell_type": "code",
   "execution_count": 50,
   "id": "901407ef",
   "metadata": {},
   "outputs": [
    {
     "name": "stderr",
     "output_type": "stream",
     "text": [
      "D:\\anaconda3\\envs\\MLBDenv\\lib\\site-packages\\sklearn\\linear_model\\_logistic.py:444: ConvergenceWarning: lbfgs failed to converge (status=1):\n",
      "STOP: TOTAL NO. of ITERATIONS REACHED LIMIT.\n",
      "\n",
      "Increase the number of iterations (max_iter) or scale the data as shown in:\n",
      "    https://scikit-learn.org/stable/modules/preprocessing.html\n",
      "Please also refer to the documentation for alternative solver options:\n",
      "    https://scikit-learn.org/stable/modules/linear_model.html#logistic-regression\n",
      "  n_iter_i = _check_optimize_result(\n"
     ]
    },
    {
     "data": {
      "text/plain": [
       "['trained_models/lr_smote_tomek.pkl']"
      ]
     },
     "execution_count": 50,
     "metadata": {},
     "output_type": "execute_result"
    }
   ],
   "source": [
    "#logistic regression under the seventh resampling method\n",
    "\n",
    "lr_smote_tomek = LogisticRegression(random_state=None)\n",
    "lr_smote_tomek = lr_smote_tomek.fit(x_resampled_smote_tomek, y_resampled_smote_tomek)\n",
    "joblib.dump(lr_smote_tomek, 'trained_models/lr_smote_tomek.pkl')"
   ]
  },
  {
   "cell_type": "code",
   "execution_count": 37,
   "id": "fa96f9a5",
   "metadata": {},
   "outputs": [
    {
     "data": {
      "text/plain": [
       "['trained_models/gnb_smote_tomek.pkl']"
      ]
     },
     "execution_count": 37,
     "metadata": {},
     "output_type": "execute_result"
    }
   ],
   "source": [
    "#Naive Bayes under the seventh resampling method\n",
    "\n",
    "gnb_smote_tomek = GaussianNB()\n",
    "gnb_smote_tomek = gnb_smote_tomek.fit(x_resampled_smote_tomek, y_resampled_smote_tomek)\n",
    "joblib.dump(gnb_smote_tomek, 'trained_models/gnb_smote_tomek.pkl')"
   ]
  },
  {
   "cell_type": "code",
   "execution_count": 24,
   "id": "ac907baa",
   "metadata": {},
   "outputs": [],
   "source": [
    "#the eighth resampling method, NearMiss\n",
    "\n",
    "nm = NearMiss(sampling_strategy='auto', version=3)\n",
    "x_resampled_nm, y_resampled_nm = nm.fit_resample(x, y)\n",
    "x_resampled_nm.to_csv('resampled_datasets/x_resampled_nm.csv',index=False)\n",
    "y_resampled_nm.to_csv('resampled_datasets/y_resampled_nm.csv',index=False)"
   ]
  },
  {
   "cell_type": "code",
   "execution_count": 25,
   "id": "573f20c2",
   "metadata": {},
   "outputs": [
    {
     "data": {
      "text/plain": [
       "['trained_models/rdc_nm.pkl']"
      ]
     },
     "execution_count": 25,
     "metadata": {},
     "output_type": "execute_result"
    }
   ],
   "source": [
    "#Random Forset Classifier under the eighth resampling method\n",
    "\n",
    "rdc_nm = RandomForestClassifier(random_state = None)\n",
    "rdc_nm = rdc_nm.fit(x_resampled_nm, y_resampled_nm)\n",
    "joblib.dump(rdc_nm, 'trained_models/rdc_nm.pkl')"
   ]
  },
  {
   "cell_type": "code",
   "execution_count": 51,
   "id": "0755853e",
   "metadata": {},
   "outputs": [
    {
     "name": "stderr",
     "output_type": "stream",
     "text": [
      "D:\\anaconda3\\envs\\MLBDenv\\lib\\site-packages\\sklearn\\linear_model\\_logistic.py:444: ConvergenceWarning: lbfgs failed to converge (status=1):\n",
      "STOP: TOTAL NO. of ITERATIONS REACHED LIMIT.\n",
      "\n",
      "Increase the number of iterations (max_iter) or scale the data as shown in:\n",
      "    https://scikit-learn.org/stable/modules/preprocessing.html\n",
      "Please also refer to the documentation for alternative solver options:\n",
      "    https://scikit-learn.org/stable/modules/linear_model.html#logistic-regression\n",
      "  n_iter_i = _check_optimize_result(\n"
     ]
    },
    {
     "data": {
      "text/plain": [
       "['trained_models/lr_nm.pkl']"
      ]
     },
     "execution_count": 51,
     "metadata": {},
     "output_type": "execute_result"
    }
   ],
   "source": [
    "#logistic regression under the eighth resampling method\n",
    "\n",
    "lr_nm = LogisticRegression(random_state=None)\n",
    "lr_nm = lr_nm.fit(x_resampled_nm, y_resampled_nm)\n",
    "joblib.dump(lr_nm, 'trained_models/lr_nm.pkl')"
   ]
  },
  {
   "cell_type": "code",
   "execution_count": 38,
   "id": "0eca6730",
   "metadata": {},
   "outputs": [
    {
     "data": {
      "text/plain": [
       "['trained_models/gnb_nm.pkl']"
      ]
     },
     "execution_count": 38,
     "metadata": {},
     "output_type": "execute_result"
    }
   ],
   "source": [
    "#Naive Bayes under the eighth resampling method\n",
    "\n",
    "gnb_nm = GaussianNB()\n",
    "gnb_nm = gnb_nm.fit(x_resampled_nm, y_resampled_nm)\n",
    "joblib.dump(gnb_nm, 'trained_models/gnb_nm.pkl')"
   ]
  },
  {
   "cell_type": "code",
   "execution_count": 26,
   "id": "15a30afe",
   "metadata": {},
   "outputs": [],
   "source": [
    "#the ninth resampling method, RepeatedEditedNearestNeighbours\n",
    "\n",
    "renn = RepeatedEditedNearestNeighbours(kind_sel='all',max_iter=100)\n",
    "x_resampled_renn, y_resampled_renn = renn.fit_resample(x, y)\n",
    "x_resampled_renn.to_csv('resampled_datasets/x_resampled_renn.csv',index=False)\n",
    "y_resampled_renn.to_csv('resampled_datasets/y_resampled_renn.csv',index=False)"
   ]
  },
  {
   "cell_type": "code",
   "execution_count": 27,
   "id": "99e2149f",
   "metadata": {},
   "outputs": [
    {
     "data": {
      "text/plain": [
       "['trained_models/rdc_renn.pkl']"
      ]
     },
     "execution_count": 27,
     "metadata": {},
     "output_type": "execute_result"
    }
   ],
   "source": [
    "#Random Forset Classifier under the ninth resampling method\n",
    "\n",
    "rdc_renn = RandomForestClassifier(random_state = None)\n",
    "rdc_renn = rdc_renn.fit(x_resampled_renn, y_resampled_renn)\n",
    "joblib.dump(rdc_renn, 'trained_models/rdc_renn.pkl')"
   ]
  },
  {
   "cell_type": "code",
   "execution_count": 52,
   "id": "65245eba",
   "metadata": {},
   "outputs": [
    {
     "name": "stderr",
     "output_type": "stream",
     "text": [
      "D:\\anaconda3\\envs\\MLBDenv\\lib\\site-packages\\sklearn\\linear_model\\_logistic.py:444: ConvergenceWarning: lbfgs failed to converge (status=1):\n",
      "STOP: TOTAL NO. of ITERATIONS REACHED LIMIT.\n",
      "\n",
      "Increase the number of iterations (max_iter) or scale the data as shown in:\n",
      "    https://scikit-learn.org/stable/modules/preprocessing.html\n",
      "Please also refer to the documentation for alternative solver options:\n",
      "    https://scikit-learn.org/stable/modules/linear_model.html#logistic-regression\n",
      "  n_iter_i = _check_optimize_result(\n"
     ]
    },
    {
     "data": {
      "text/plain": [
       "['trained_models/lr_renn.pkl']"
      ]
     },
     "execution_count": 52,
     "metadata": {},
     "output_type": "execute_result"
    }
   ],
   "source": [
    "#logistic regression under the ninth resampling method\n",
    "\n",
    "lr_renn = LogisticRegression(random_state=None)\n",
    "lr_renn = lr_renn.fit(x_resampled_renn, y_resampled_renn)\n",
    "joblib.dump(lr_renn, 'trained_models/lr_renn.pkl')"
   ]
  },
  {
   "cell_type": "code",
   "execution_count": 39,
   "id": "4de378c4",
   "metadata": {},
   "outputs": [
    {
     "data": {
      "text/plain": [
       "['trained_models/gnb_renn.pkl']"
      ]
     },
     "execution_count": 39,
     "metadata": {},
     "output_type": "execute_result"
    }
   ],
   "source": [
    "#Naive Bayes under the ninth resampling method\n",
    "\n",
    "gnb_renn = GaussianNB()\n",
    "gnb_renn = gnb_renn.fit(x_resampled_renn, y_resampled_renn)\n",
    "joblib.dump(gnb_renn, 'trained_models/gnb_renn.pkl')"
   ]
  },
  {
   "cell_type": "code",
   "execution_count": 28,
   "id": "354c1056",
   "metadata": {},
   "outputs": [],
   "source": [
    "#the tenth resampling method, OneSidedSelection\n",
    "\n",
    "oss = OneSidedSelection(sampling_strategy='auto',random_state=None)\n",
    "x_resampled_oss, y_resampled_oss = oss.fit_resample(x, y)\n",
    "x_resampled_oss.to_csv('resampled_datasets/x_resampled_oss.csv',index=False)\n",
    "y_resampled_oss.to_csv('resampled_datasets/y_resampled_oss.csv',index=False)"
   ]
  },
  {
   "cell_type": "code",
   "execution_count": 29,
   "id": "33fc6460",
   "metadata": {},
   "outputs": [
    {
     "data": {
      "text/plain": [
       "['trained_models/rdc_oss.pkl']"
      ]
     },
     "execution_count": 29,
     "metadata": {},
     "output_type": "execute_result"
    }
   ],
   "source": [
    "#Random Forset Classifier under the tenth resampling method\n",
    "\n",
    "rdc_oss = RandomForestClassifier(random_state = None)\n",
    "rdc_oss = rdc_oss.fit(x_resampled_oss, y_resampled_oss)\n",
    "joblib.dump(rdc_oss, 'trained_models/rdc_oss.pkl')"
   ]
  },
  {
   "cell_type": "code",
   "execution_count": 53,
   "id": "15cd84bc",
   "metadata": {},
   "outputs": [
    {
     "name": "stderr",
     "output_type": "stream",
     "text": [
      "D:\\anaconda3\\envs\\MLBDenv\\lib\\site-packages\\sklearn\\linear_model\\_logistic.py:444: ConvergenceWarning: lbfgs failed to converge (status=1):\n",
      "STOP: TOTAL NO. of ITERATIONS REACHED LIMIT.\n",
      "\n",
      "Increase the number of iterations (max_iter) or scale the data as shown in:\n",
      "    https://scikit-learn.org/stable/modules/preprocessing.html\n",
      "Please also refer to the documentation for alternative solver options:\n",
      "    https://scikit-learn.org/stable/modules/linear_model.html#logistic-regression\n",
      "  n_iter_i = _check_optimize_result(\n"
     ]
    },
    {
     "data": {
      "text/plain": [
       "['trained_models/lr_oss.pkl']"
      ]
     },
     "execution_count": 53,
     "metadata": {},
     "output_type": "execute_result"
    }
   ],
   "source": [
    "#logistic regression under the tenth resampling method\n",
    "\n",
    "lr_oss = LogisticRegression(random_state=None)\n",
    "lr_oss = lr_oss.fit(x_resampled_oss, y_resampled_oss)\n",
    "joblib.dump(lr_oss, 'trained_models/lr_oss.pkl')"
   ]
  },
  {
   "cell_type": "code",
   "execution_count": 40,
   "id": "568003db",
   "metadata": {},
   "outputs": [
    {
     "data": {
      "text/plain": [
       "['trained_models/gnb_oss.pkl']"
      ]
     },
     "execution_count": 40,
     "metadata": {},
     "output_type": "execute_result"
    }
   ],
   "source": [
    "#Naive Bayes under the tenth resampling method\n",
    "\n",
    "gnb_oss = GaussianNB()\n",
    "gnb_oss = gnb_oss.fit(x_resampled_oss, y_resampled_oss)\n",
    "joblib.dump(gnb_oss, 'trained_models/gnb_oss.pkl')"
   ]
  },
  {
   "cell_type": "code",
   "execution_count": null,
   "id": "f9742e6a",
   "metadata": {},
   "outputs": [],
   "source": []
  }
 ],
 "metadata": {
  "kernelspec": {
   "display_name": "Python 3 (ipykernel)",
   "language": "python",
   "name": "python3"
  },
  "language_info": {
   "codemirror_mode": {
    "name": "ipython",
    "version": 3
   },
   "file_extension": ".py",
   "mimetype": "text/x-python",
   "name": "python",
   "nbconvert_exporter": "python",
   "pygments_lexer": "ipython3",
   "version": "3.8.12"
  }
 },
 "nbformat": 4,
 "nbformat_minor": 5
}
